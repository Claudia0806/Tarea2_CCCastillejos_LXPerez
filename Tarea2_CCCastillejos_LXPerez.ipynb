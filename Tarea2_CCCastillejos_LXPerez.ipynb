{
 "cells": [
  {
   "cell_type": "markdown",
   "id": "409b2acd",
   "metadata": {},
   "source": [
    "<img style=\"float: left; margin: 30px 15px 15px 15px;\" src=\"https://encrypted-tbn0.gstatic.com/images?q=tbn:ANd9GcTFzQj91sOlkeDFkg5HDbjtR4QJYmLXkfMNig&usqp=CAU\" width=\"400\" height=\"500\" /> \n",
    "    \n",
    "    \n",
    "### <font color='navy'> Modelos no lineales para pronósticos. \n",
    "\n",
    "**Nombres:**\n",
    "- Perez Balcorta, Leonardo Xavier\n",
    "- Castillejos Jauregui, Claudia Celeste\n",
    "\n",
    "**Fecha:** 07 de enero del 2023.\n",
    "\n",
    "**Expediente** :\n",
    "- \n",
    "- 735868\n",
    "    \n",
    "**Profesor:** Oscar David Jaramillo Zuluaga.\n",
    "    \n",
    "**Link Github**: https://github.com/Claudia0806/Tarea2_CCCastillejos_LXPerez\n",
    "\n",
    "# Tarea 2: Clase 6"
   ]
  },
  {
   "cell_type": "markdown",
   "id": "624ebe27",
   "metadata": {},
   "source": []
  },
  {
   "cell_type": "code",
   "execution_count": null,
   "id": "96d14307",
   "metadata": {},
   "outputs": [],
   "source": []
  }
 ],
 "metadata": {
  "kernelspec": {
   "display_name": "Python 3 (ipykernel)",
   "language": "python",
   "name": "python3"
  },
  "language_info": {
   "codemirror_mode": {
    "name": "ipython",
    "version": 3
   },
   "file_extension": ".py",
   "mimetype": "text/x-python",
   "name": "python",
   "nbconvert_exporter": "python",
   "pygments_lexer": "ipython3",
   "version": "3.8.5"
  }
 },
 "nbformat": 4,
 "nbformat_minor": 5
}
